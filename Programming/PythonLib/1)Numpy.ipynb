{
 "cells": [
  {
   "cell_type": "code",
   "execution_count": 1,
   "metadata": {},
   "outputs": [
    {
     "name": "stdout",
     "output_type": "stream",
     "text": [
      "Requirement already satisfied: numpy in c:\\users\\devan\\anaconda3\\lib\\site-packages (1.26.4)\n"
     ]
    },
    {
     "name": "stderr",
     "output_type": "stream",
     "text": [
      "\n",
      "[notice] A new release of pip is available: 24.1.2 -> 24.2\n",
      "[notice] To update, run: python.exe -m pip install --upgrade pip\n"
     ]
    }
   ],
   "source": [
    "#install the NumPy library\n",
    "! pip install numpy"
   ]
  },
  {
   "cell_type": "code",
   "execution_count": 3,
   "metadata": {},
   "outputs": [],
   "source": [
    "# importing the numpy library\n",
    "import numpy as np"
   ]
  },
  {
   "cell_type": "code",
   "execution_count": 7,
   "metadata": {},
   "outputs": [
    {
     "name": "stdout",
     "output_type": "stream",
     "text": [
      "Array Creation:\n",
      "array1: [1 2 3 4 5]\n",
      "array2:\n",
      " [[0. 0. 0.]\n",
      " [0. 0. 0.]]\n",
      "array3:\n",
      " [[1. 1.]\n",
      " [1. 1.]\n",
      " [1. 1.]]\n",
      "array4: [0 1 2 3 4 5 6 7 8 9]\n",
      "array5: [0.   0.25 0.5  0.75 1.  ]\n"
     ]
    }
   ],
   "source": [
    "# 1. Array Creation\n",
    "# Create a 1D array from a Python list\n",
    "array1 = np.array([1, 2, 3, 4, 5])\n",
    "# Create a 2D array of zeros with shape (2, 3)\n",
    "array2 = np.zeros((2, 3))\n",
    "# Create a 2D array of ones with shape (3, 2)\n",
    "array3 = np.ones((3, 2))\n",
    "# Create a 1D array with values from 0 to 9\n",
    "array4 = np.arange(10)\n",
    "# Create a 1D array with 5 values evenly spaced between 0 and 1\n",
    "array5 = np.linspace(0, 1, 5)\n",
    "\n",
    "print(\"Array Creation:\")\n",
    "print(\"array1:\", array1)\n",
    "print(\"array2:\\n\", array2)\n",
    "print(\"array3:\\n\", array3)\n",
    "print(\"array4:\", array4)\n",
    "print(\"array5:\", array5)"
   ]
  },
  {
   "cell_type": "code",
   "execution_count": 8,
   "metadata": {},
   "outputs": [
    {
     "name": "stdout",
     "output_type": "stream",
     "text": [
      "\n",
      "Array Operations:\n",
      "sum_array: [11 12 13 14 15]\n",
      "product_array: [ 2  4  6  8 10]\n",
      "exp_array: [  2.71828183   7.3890561   20.08553692  54.59815003 148.4131591 ]\n",
      "log_array: [0.69314718 1.09861229 1.38629436 1.60943791 1.79175947]\n"
     ]
    }
   ],
   "source": [
    "\n",
    "# 2. Array Operations\n",
    "# Add 10 to each element of array1\n",
    "sum_array = array1 + 10\n",
    "# Multiply each element of array1 by 2\n",
    "product_array = array1 * 2\n",
    "# Apply exponential function element-wise to array1\n",
    "exp_array = np.exp(array1)\n",
    "# Apply logarithm function element-wise to array1 (shifted to avoid log(0))\n",
    "log_array = np.log(array1 + 1)\n",
    "\n",
    "print(\"\\nArray Operations:\")\n",
    "print(\"sum_array:\", sum_array)\n",
    "print(\"product_array:\", product_array)\n",
    "print(\"exp_array:\", exp_array)\n",
    "print(\"log_array:\", log_array)"
   ]
  },
  {
   "cell_type": "code",
   "execution_count": 9,
   "metadata": {},
   "outputs": [
    {
     "name": "stdout",
     "output_type": "stream",
     "text": [
      "\n",
      "Indexing and Slicing:\n",
      "sub_array: [2 3 4]\n"
     ]
    }
   ],
   "source": [
    "# 3. Indexing and Slicing\n",
    "# Slice elements from index 1 to 3 from array1\n",
    "sub_array = array1[1:4]\n",
    "\n",
    "print(\"\\nIndexing and Slicing:\")\n",
    "print(\"sub_array:\", sub_array)"
   ]
  },
  {
   "cell_type": "code",
   "execution_count": 10,
   "metadata": {},
   "outputs": [
    {
     "name": "stdout",
     "output_type": "stream",
     "text": [
      "\n",
      "Mathematical Functions:\n",
      "mean_val: 3.0\n",
      "max_val: 5\n",
      "min_val: 1\n"
     ]
    }
   ],
   "source": [
    "# 4. Mathematical Functions\n",
    "# Calculate the mean of array1\n",
    "mean_val = np.mean(array1)\n",
    "# Find the maximum value in array1\n",
    "max_val = np.max(array1)\n",
    "# Find the minimum value in array1\n",
    "min_val = np.min(array1)\n",
    "\n",
    "print(\"\\nMathematical Functions:\")\n",
    "print(\"mean_val:\", mean_val)\n",
    "print(\"max_val:\", max_val)\n",
    "print(\"min_val:\", min_val)"
   ]
  },
  {
   "cell_type": "code",
   "execution_count": 11,
   "metadata": {},
   "outputs": [
    {
     "name": "stdout",
     "output_type": "stream",
     "text": [
      "\n",
      "Linear Algebra:\n",
      "dot_product:\n",
      " [[ 4  6]\n",
      " [10 12]]\n",
      "Eigenvalues: [-0.37228132  5.37228132]\n",
      "Eigenvectors:\n",
      " [[-0.82456484 -0.41597356]\n",
      " [ 0.56576746 -0.90937671]]\n"
     ]
    }
   ],
   "source": [
    "# 5. Linear Algebra\n",
    "# Define two matrices for matrix multiplication\n",
    "matrix1 = np.array([[1, 2], [3, 4]])\n",
    "matrix2 = np.array([[2, 0], [1, 3]])\n",
    "# Compute the dot product (matrix multiplication) of matrix1 and matrix2\n",
    "dot_product = np.dot(matrix1, matrix2)\n",
    "# Compute eigenvalues and eigenvectors of matrix1\n",
    "eig_values, eig_vectors = np.linalg.eig(matrix1)\n",
    "\n",
    "print(\"\\nLinear Algebra:\")\n",
    "print(\"dot_product:\\n\", dot_product)\n",
    "print(\"Eigenvalues:\", eig_values)\n",
    "print(\"Eigenvectors:\\n\", eig_vectors)"
   ]
  },
  {
   "cell_type": "code",
   "execution_count": 12,
   "metadata": {},
   "outputs": [
    {
     "name": "stdout",
     "output_type": "stream",
     "text": [
      "\n",
      "Reshaping and Manipulation:\n",
      "reshaped_array:\n",
      " [[0 1 2 3 4]\n",
      " [5 6 7 8 9]]\n",
      "concatenated_array:\n",
      " [[1. 1. 1. 1.]\n",
      " [1. 1. 1. 1.]\n",
      " [1. 1. 1. 1.]]\n"
     ]
    }
   ],
   "source": [
    "# 6. Reshaping and Manipulation\n",
    "# Reshape array4 from shape (10,) to shape (2, 5)\n",
    "reshaped_array = array4.reshape((2, 5))\n",
    "# Concatenate two copies of array3 along axis 1 (horizontal concatenation)\n",
    "concatenated_array = np.concatenate((array3, array3), axis=1)\n",
    "\n",
    "print(\"\\nReshaping and Manipulation:\")\n",
    "print(\"reshaped_array:\\n\", reshaped_array)\n",
    "print(\"concatenated_array:\\n\", concatenated_array)"
   ]
  },
  {
   "cell_type": "code",
   "execution_count": 13,
   "metadata": {},
   "outputs": [
    {
     "name": "stdout",
     "output_type": "stream",
     "text": [
      "\n",
      "Broadcasting:\n",
      "broadcast_array: [ 2  4  6  8 10]\n"
     ]
    }
   ],
   "source": [
    "\n",
    "# 7. Broadcasting\n",
    "# Add a 1D array to each row of array1 (broadcasting)\n",
    "broadcast_array = array1 + np.array([1, 2, 3, 4, 5])\n",
    "\n",
    "print(\"\\nBroadcasting:\")\n",
    "print(\"broadcast_array:\", broadcast_array)"
   ]
  },
  {
   "cell_type": "code",
   "execution_count": 14,
   "metadata": {},
   "outputs": [
    {
     "name": "stdout",
     "output_type": "stream",
     "text": [
      "\n",
      "Random Number Generation:\n",
      "random_array:\n",
      " [[7.63645798e-01 2.97736649e-01 8.88109232e-01 6.85519442e-01]\n",
      " [9.45076657e-01 5.73170752e-01 8.32002116e-01 5.44768186e-01]\n",
      " [7.03644781e-02 6.30934001e-01 6.33109188e-04 5.80041557e-01]]\n",
      "random_integers:\n",
      " [[9 3 7]\n",
      " [4 1 4]]\n"
     ]
    }
   ],
   "source": [
    "# 8. Random Number Generation\n",
    "# Generate a 3x4 array of random floats between 0 and 1\n",
    "random_array = np.random.rand(3, 4)\n",
    "# Generate a 2x3 array of random integers between 0 and 10\n",
    "random_integers = np.random.randint(0, 10, size=(2, 3))\n",
    "\n",
    "print(\"\\nRandom Number Generation:\")\n",
    "print(\"random_array:\\n\", random_array)\n",
    "print(\"random_integers:\\n\", random_integers)"
   ]
  },
  {
   "cell_type": "code",
   "execution_count": null,
   "metadata": {},
   "outputs": [],
   "source": []
  }
 ],
 "metadata": {
  "kernelspec": {
   "display_name": "base",
   "language": "python",
   "name": "python3"
  },
  "language_info": {
   "codemirror_mode": {
    "name": "ipython",
    "version": 3
   },
   "file_extension": ".py",
   "mimetype": "text/x-python",
   "name": "python",
   "nbconvert_exporter": "python",
   "pygments_lexer": "ipython3",
   "version": "3.12.3"
  }
 },
 "nbformat": 4,
 "nbformat_minor": 2
}
